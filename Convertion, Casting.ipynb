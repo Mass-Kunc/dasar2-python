{
 "cells": [
  {
   "cell_type": "code",
   "execution_count": 2,
   "metadata": {},
   "outputs": [],
   "source": [
    "bil_bulat = 1\n",
    "bil_desimal = 1.8\n",
    "    \n",
    "hasil = bil_bulat + bil_desimal"
   ]
  },
  {
   "cell_type": "code",
   "execution_count": 8,
   "metadata": {},
   "outputs": [
    {
     "name": "stdout",
     "output_type": "stream",
     "text": [
      "2.8 ini adalah convertion\n"
     ]
    }
   ],
   "source": [
    "print(hasil,\"ini adalah convertion\")"
   ]
  },
  {
   "cell_type": "code",
   "execution_count": 9,
   "metadata": {},
   "outputs": [
    {
     "name": "stdout",
     "output_type": "stream",
     "text": [
      "<class 'str'>\n",
      "1\n"
     ]
    }
   ],
   "source": [
    "bilangan_bulat = \"1\"\n",
    "print(type(bilangan_bulat))\n",
    "print(bilangan_bulat)"
   ]
  },
  {
   "cell_type": "code",
   "execution_count": 12,
   "metadata": {},
   "outputs": [
    {
     "name": "stdout",
     "output_type": "stream",
     "text": [
      "<class 'int'>\n",
      "1\n",
      "bilangan_bulat dari string menjadi int (ini adalah casting)\n"
     ]
    }
   ],
   "source": [
    "cast_bil_bulat_jd_int = int(bilangan_bulat)\n",
    "print(type(cast_bil_bulat_jd_int))\n",
    "print(cast_bil_bulat_jd_int)\n",
    "\n",
    "print(\"bilangan_bulat dari string menjadi int (ini adalah casting)\")"
   ]
  },
  {
   "cell_type": "code",
   "execution_count": 14,
   "metadata": {},
   "outputs": [
    {
     "name": "stdout",
     "output_type": "stream",
     "text": [
      "<class 'str'>\n",
      "1\n",
      "dikembalikan menjadi string\n"
     ]
    }
   ],
   "source": [
    "str_bil_bulat = str(cast_bil_bulat_jd_int)\n",
    "print(type(str_bil_bulat))\n",
    "print(str_bil_bulat)\n",
    "\n",
    "print(\"dikembalikan menjadi string\")"
   ]
  },
  {
   "cell_type": "code",
   "execution_count": 15,
   "metadata": {},
   "outputs": [
    {
     "name": "stdout",
     "output_type": "stream",
     "text": [
      "<class 'float'>\n",
      "1.0\n"
     ]
    }
   ],
   "source": [
    "float_bil_bulat = float(cast_bil_bulat_jd_int)\n",
    "print(type(float_bil_bulat))\n",
    "print(float_bil_bulat)"
   ]
  },
  {
   "cell_type": "code",
   "execution_count": null,
   "metadata": {},
   "outputs": [],
   "source": []
  }
 ],
 "metadata": {
  "kernelspec": {
   "display_name": "Python 3",
   "language": "python",
   "name": "python3"
  },
  "language_info": {
   "codemirror_mode": {
    "name": "ipython",
    "version": 3
   },
   "file_extension": ".py",
   "mimetype": "text/x-python",
   "name": "python",
   "nbconvert_exporter": "python",
   "pygments_lexer": "ipython3",
   "version": "3.7.4"
  }
 },
 "nbformat": 4,
 "nbformat_minor": 2
}
