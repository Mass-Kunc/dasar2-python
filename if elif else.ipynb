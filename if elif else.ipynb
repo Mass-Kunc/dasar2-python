{
 "cells": [
  {
   "cell_type": "code",
   "execution_count": 1,
   "metadata": {},
   "outputs": [
    {
     "name": "stdout",
     "output_type": "stream",
     "text": [
      "makan\n"
     ]
    }
   ],
   "source": [
    "keadaan = 'lapar'\n",
    "\n",
    "if keadaan == 'lapar':\n",
    "    print('makan')"
   ]
  },
  {
   "cell_type": "code",
   "execution_count": 2,
   "metadata": {},
   "outputs": [
    {
     "name": "stdout",
     "output_type": "stream",
     "text": [
      "yaudah\n"
     ]
    }
   ],
   "source": [
    "keadaan = 'mager'\n",
    "\n",
    "if keadaan == 'lapar':\n",
    "    print('makan')\n",
    "else:\n",
    "    print('yaudah')"
   ]
  },
  {
   "cell_type": "code",
   "execution_count": 5,
   "metadata": {},
   "outputs": [
    {
     "name": "stdout",
     "output_type": "stream",
     "text": [
      "minum\n"
     ]
    }
   ],
   "source": [
    "keadaan = 'haus'\n",
    "\n",
    "if keadaan == 'lapar':\n",
    "    print('makan')\n",
    "elif keadaan == 'haus':\n",
    "    print('minum')\n",
    "elif keadaan == 'mager':\n",
    "    print('rebahan')\n",
    "else :\n",
    "    print('yaudah')"
   ]
  },
  {
   "cell_type": "code",
   "execution_count": 13,
   "metadata": {},
   "outputs": [
    {
     "name": "stdout",
     "output_type": "stream",
     "text": [
      "masak dulu\n",
      "makan\n"
     ]
    }
   ],
   "source": [
    "keadaan = 'lapar'\n",
    "tidak_ada_makanan = True #tidak ada makanan\n",
    "\n",
    "if keadaan == 'lapar':\n",
    "    if tidak_ada_makanan : #jika tidak ada makanan dianggap True akan mencetak masak dulu\n",
    "        print('masak dulu')\n",
    "    print('makan')\n",
    "elif keadaan == 'haus':\n",
    "    print('minum')\n",
    "elif keadaan == 'mager':\n",
    "    print('rebahan')\n",
    "else :\n",
    "    print('yaudah')"
   ]
  },
  {
   "cell_type": "code",
   "execution_count": 15,
   "metadata": {},
   "outputs": [
    {
     "name": "stdout",
     "output_type": "stream",
     "text": [
      "rebahan\n"
     ]
    }
   ],
   "source": [
    "keadaan = 'lapar'\n",
    "ada_makanan = False #ada makanan = false = tidak ada\n",
    "\n",
    "if keadaan == 'lapar':\n",
    "    if not ada_makanan : #NOT ada makanan (false) = tidak ada makanan(true)\n",
    "        print('masak dulu')\n",
    "    print('makan')\n",
    "elif keadaan == 'haus':\n",
    "    print('minum')\n",
    "elif keadaan == 'mager':\n",
    "    print('rebahan')\n",
    "else :\n",
    "    print('yaudah')"
   ]
  },
  {
   "cell_type": "code",
   "execution_count": null,
   "metadata": {},
   "outputs": [],
   "source": []
  }
 ],
 "metadata": {
  "kernelspec": {
   "display_name": "Python 3",
   "language": "python",
   "name": "python3"
  },
  "language_info": {
   "codemirror_mode": {
    "name": "ipython",
    "version": 3
   },
   "file_extension": ".py",
   "mimetype": "text/x-python",
   "name": "python",
   "nbconvert_exporter": "python",
   "pygments_lexer": "ipython3",
   "version": "3.7.4"
  }
 },
 "nbformat": 4,
 "nbformat_minor": 2
}
