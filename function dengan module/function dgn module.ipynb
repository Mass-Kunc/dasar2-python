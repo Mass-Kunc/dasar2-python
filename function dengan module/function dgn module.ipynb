{
 "cells": [
  {
   "cell_type": "code",
   "execution_count": 1,
   "metadata": {},
   "outputs": [],
   "source": [
    "import module_keliling\n",
    "import module_luas"
   ]
  },
  {
   "cell_type": "code",
   "execution_count": 2,
   "metadata": {},
   "outputs": [
    {
     "name": "stdout",
     "output_type": "stream",
     "text": [
      "luas segi3 dari a=4, t=6 adalah 12.0\n"
     ]
    }
   ],
   "source": [
    "luas_segi3_1 = module_luas.luas_segi3(4,6)      #var = nama module.nama fungsi(def)\n",
    "print('luas segi3 dari a=4, t=6 adalah',luas_segi3_1)"
   ]
  },
  {
   "cell_type": "code",
   "execution_count": 3,
   "metadata": {},
   "outputs": [
    {
     "name": "stdout",
     "output_type": "stream",
     "text": [
      "12.0\n"
     ]
    }
   ],
   "source": [
    "print(module_luas.luas_segi3(4,6))"
   ]
  },
  {
   "cell_type": "code",
   "execution_count": 4,
   "metadata": {},
   "outputs": [
    {
     "name": "stdout",
     "output_type": "stream",
     "text": [
      "40\n"
     ]
    }
   ],
   "source": [
    "luas_pp = module_luas.luas_persegi_pjg(4,10)\n",
    "print(luas_pp)"
   ]
  },
  {
   "cell_type": "code",
   "execution_count": 5,
   "metadata": {},
   "outputs": [
    {
     "name": "stdout",
     "output_type": "stream",
     "text": [
      "9\n",
      "10\n"
     ]
    }
   ],
   "source": [
    "print(module_keliling.kel_segitiga(3))\n",
    "print(module_keliling.kel_persegi_pjg(3,2))   #hasil keliling\n"
   ]
  },
  {
   "cell_type": "code",
   "execution_count": 6,
   "metadata": {},
   "outputs": [],
   "source": [
    "#cara import lain\n",
    "from module_luas import luas_segi3 as LS\n",
    "from module_luas import luas_persegi_pjg as LP\n",
    "from module_keliling import kel_segitiga as KS\n",
    "from module_keliling import kel_persegi_pjg as KP"
   ]
  },
  {
   "cell_type": "code",
   "execution_count": 7,
   "metadata": {},
   "outputs": [],
   "source": [
    "luas_segi3 = LS(4,6)\n",
    "luas_pp = LP(4,10)\n",
    "kel_segi3 = KS(3)\n",
    "kel_pp = KP(3,2)"
   ]
  },
  {
   "cell_type": "code",
   "execution_count": 8,
   "metadata": {},
   "outputs": [
    {
     "name": "stdout",
     "output_type": "stream",
     "text": [
      "12.0\n",
      "40\n",
      "9\n",
      "10\n"
     ]
    }
   ],
   "source": [
    "print(luas_segi3)\n",
    "print(luas_pp)\n",
    "print(kel_segi3)\n",
    "print(kel_pp)"
   ]
  },
  {
   "cell_type": "code",
   "execution_count": null,
   "metadata": {},
   "outputs": [],
   "source": []
  }
 ],
 "metadata": {
  "kernelspec": {
   "display_name": "Python 3",
   "language": "python",
   "name": "python3"
  },
  "language_info": {
   "codemirror_mode": {
    "name": "ipython",
    "version": 3
   },
   "file_extension": ".py",
   "mimetype": "text/x-python",
   "name": "python",
   "nbconvert_exporter": "python",
   "pygments_lexer": "ipython3",
   "version": "3.7.4"
  }
 },
 "nbformat": 4,
 "nbformat_minor": 2
}
